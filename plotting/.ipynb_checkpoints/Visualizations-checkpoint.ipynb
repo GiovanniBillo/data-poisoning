{
 "cells": [
  {
   "cell_type": "code",
   "execution_count": 4,
   "metadata": {},
   "outputs": [
    {
     "name": "stdout",
     "output_type": "stream",
     "text": [
      "Project root added to path: /home/giovanni/Documents/REMOTE/UNI/II/DL/DLproject/data-poisoning\n"
     ]
    }
   ],
   "source": [
    "import sys\n",
    "import os\n",
    "\n",
    "# Add project root (one level up from this script's directory)\n",
    "project_root = os.path.abspath(os.path.join(os.getcwd(), '..'))\n",
    "sys.path.insert(0, project_root)\n",
    "\n",
    "# Confirm it's now importable\n",
    "print(\"Project root added to path:\", project_root)"
   ]
  },
  {
   "cell_type": "code",
   "execution_count": 5,
   "metadata": {},
   "outputs": [
    {
     "name": "stderr",
     "output_type": "stream",
     "text": [
      "/home/giovanni/miniconda3/lib/python3.12/site-packages/tqdm/auto.py:21: TqdmWarning: IProgress not found. Please update jupyter and ipywidgets. See https://ipywidgets.readthedocs.io/en/stable/user_install.html\n",
      "  from .autonotebook import tqdm as notebook_tqdm\n"
     ]
    }
   ],
   "source": [
    "import torch\n",
    "from plotting.featurespace_visualizations import *\n",
    "import os\n",
    "import pickle\n",
    "import numpy as np\n",
    "import pandas as pd\n",
    "import seaborn as sns\n",
    "import matplotlib.pyplot as plt\n",
    "import warnings\n",
    "warnings.filterwarnings('ignore')"
   ]
  },
  {
   "cell_type": "code",
   "execution_count": 6,
   "metadata": {},
   "outputs": [],
   "source": [
    "use_cuda = torch.cuda.is_available()\n",
    "device = torch.device(\"cuda:0\" if use_cuda else \"cpu\")\n",
    "torch.backends.cudnn.benchmark = True"
   ]
  },
  {
   "cell_type": "markdown",
   "metadata": {},
   "source": [
    "## Bullseye"
   ]
  },
  {
   "cell_type": "code",
   "execution_count": null,
   "metadata": {},
   "outputs": [],
   "source": [
    "base_class = 5\n",
    "target_class = 0\n",
    "\n",
    "poison_ids = pickle.load( open( \"./models/bullseye_transfer_undefended/poison_indices.pickle\", \"rb\" ) ).cpu().numpy()\n",
    "poison_ids = list(map(str, poison_ids))\n"
   ]
  },
  {
   "cell_type": "code",
   "execution_count": null,
   "metadata": {
    "jupyter": {
     "outputs_hidden": true
    }
   },
   "outputs": [],
   "source": [
    "generate_plots('./models/bullseye_transfer',\"bullseye\",genplot_centroid_prob_2d, target_class, base_class,poison_ids, device)"
   ]
  },
  {
   "cell_type": "code",
   "execution_count": null,
   "metadata": {
    "jupyter": {
     "outputs_hidden": true
    }
   },
   "outputs": [],
   "source": [
    "generate_plots('./models/bullseye_transfer',\"bullseye\",genplot_centroid_prob_3d, target_class, base_class,poison_ids, device)"
   ]
  },
  {
   "cell_type": "markdown",
   "metadata": {},
   "source": [
    "## Witches Brew"
   ]
  },
  {
   "cell_type": "code",
   "execution_count": null,
   "metadata": {},
   "outputs": [],
   "source": [
    "base_class = 5\n",
    "target_class = 1\n",
    "\n",
    "poison_ids = pickle.load( open( \"./models/wbrew_fromscratch_undefended/poison_indices.pickle\", \"rb\" ) ).cpu().numpy()\n",
    "poison_ids = list(map(str, poison_ids))"
   ]
  },
  {
   "cell_type": "code",
   "execution_count": null,
   "metadata": {
    "jupyter": {
     "outputs_hidden": true
    }
   },
   "outputs": [],
   "source": [
    "generate_plots('./models/wbrew_fromscratch','wb',genplot_centroid_prob_2d, target_class, base_class,poison_ids, device)"
   ]
  },
  {
   "cell_type": "code",
   "execution_count": null,
   "metadata": {
    "jupyter": {
     "outputs_hidden": true
    }
   },
   "outputs": [],
   "source": [
    "generate_plots('./models/wbrew_fromscratch','wb',genplot_centroid_prob_3d, target_class, base_class,poison_ids, device)"
   ]
  },
  {
   "cell_type": "markdown",
   "metadata": {},
   "source": [
    "### Poison Frogs"
   ]
  },
  {
   "cell_type": "code",
   "execution_count": null,
   "metadata": {},
   "outputs": [],
   "source": [
    "base_class = 8\n",
    "target_class = 0\n",
    "\n",
    "poison_ids = pickle.load( open( \"./models/poisonfrogs_transfer_undefended/poison_indices.pickle\", \"rb\" ) ).cpu().numpy()\n",
    "poison_ids = list(map(str, poison_ids))\n"
   ]
  },
  {
   "cell_type": "code",
   "execution_count": null,
   "metadata": {
    "jupyter": {
     "outputs_hidden": true
    }
   },
   "outputs": [],
   "source": [
    "generate_plots('./models/poisonfrogs_transfer','poison_frogs',genplot_centroid_prob_2d, target_class, base_class,poison_ids, device)"
   ]
  },
  {
   "cell_type": "code",
   "execution_count": null,
   "metadata": {
    "jupyter": {
     "outputs_hidden": true
    }
   },
   "outputs": [],
   "source": [
    "generate_plots('./models/poisonfrogs_transfer','poison_frogs',genplot_centroid_prob_3d, target_class, base_class,poison_ids, device)"
   ]
  },
  {
   "cell_type": "markdown",
   "metadata": {},
   "source": [
    "### Gradient Matching"
   ]
  },
  {
   "cell_type": "code",
   "execution_count": 9,
   "metadata": {},
   "outputs": [
    {
     "name": "stdout",
     "output_type": "stream",
     "text": [
      " def_features.pickle\r\n",
      " def.pth\r\n",
      "'['\\''HG'\\'']_CIFAR10_16_clean_model'\r\n",
      "'['\\''HG'\\'']_CIFAR10_16_defended_model'\r\n",
      "'['\\''HG'\\'']_CIFAR10_16_poison_indices.pickle'\r\n",
      "'['\\''HG'\\'']_CIFAR10_8.0_clean_model'\r\n",
      "'['\\''HG'\\'']_CIFAR10_8.0_defended_model'\r\n",
      "'['\\''HG'\\'']_CIFAR10_8.0_poison_indices.pickle'\r\n",
      " model_16_poison_indices.pickle\r\n",
      " model_16_undefended\r\n",
      " model_8.0_defended\r\n",
      " model_8.0_poison_indices.pickle\r\n",
      " model_8.0_undefended\r\n"
     ]
    }
   ],
   "source": [
    "! ls ../models/"
   ]
  },
  {
   "cell_type": "code",
   "execution_count": 11,
   "metadata": {},
   "outputs": [],
   "source": [
    "base_class = 8\n",
    "target_class = 0\n",
    "\n",
    "poison_ids = pickle.load( open( \"../models/model_8.0_poison_indices.pickle\", \"rb\" ) ).cpu().numpy()\n",
    "poison_ids = list(map(str, poison_ids))\n"
   ]
  },
  {
   "cell_type": "code",
   "execution_count": 14,
   "metadata": {},
   "outputs": [
    {
     "name": "stdout",
     "output_type": "stream",
     "text": [
      "1.26.4\n"
     ]
    }
   ],
   "source": [
    "print(np.__version__)"
   ]
  },
  {
   "cell_type": "code",
   "execution_count": 12,
   "metadata": {
    "jupyter": {
     "outputs_hidden": true
    }
   },
   "outputs": [
    {
     "ename": "ModuleNotFoundError",
     "evalue": "No module named 'numpy._core.numeric'",
     "output_type": "error",
     "traceback": [
      "\u001b[31m---------------------------------------------------------------------------\u001b[39m",
      "\u001b[31mModuleNotFoundError\u001b[39m                       Traceback (most recent call last)",
      "\u001b[36mCell\u001b[39m\u001b[36m \u001b[39m\u001b[32mIn[12]\u001b[39m\u001b[32m, line 1\u001b[39m\n\u001b[32m----> \u001b[39m\u001b[32m1\u001b[39m \u001b[43mgenerate_plots\u001b[49m\u001b[43m(\u001b[49m\u001b[33;43m'\u001b[39;49m\u001b[33;43m../models/model_8.0\u001b[39;49m\u001b[33;43m'\u001b[39;49m\u001b[43m,\u001b[49m\u001b[33;43m\"\u001b[39;49m\u001b[33;43mgm_fromscratch\u001b[39;49m\u001b[33;43m\"\u001b[39;49m\u001b[43m,\u001b[49m\u001b[43mgenplot_centroid_prob_2d\u001b[49m\u001b[43m,\u001b[49m\u001b[43m \u001b[49m\u001b[43mtarget_class\u001b[49m\u001b[43m,\u001b[49m\u001b[43m \u001b[49m\u001b[43mbase_class\u001b[49m\u001b[43m,\u001b[49m\u001b[43mpoison_ids\u001b[49m\u001b[43m,\u001b[49m\u001b[43m \u001b[49m\u001b[43mdevice\u001b[49m\u001b[43m)\u001b[49m\n",
      "\u001b[36mFile \u001b[39m\u001b[32m~/Documents/REMOTE/UNI/II/DL/DLproject/data-poisoning/plotting/featurespace_visualizations.py:740\u001b[39m, in \u001b[36mgenerate_plots\u001b[39m\u001b[34m(main_path, model_name, plot_function, target_class, base_class, poison_ids, device)\u001b[39m\n\u001b[32m    738\u001b[39m feat_path = os.path.join(main_path+\u001b[33m'\u001b[39m\u001b[33m_undefended\u001b[39m\u001b[33m'\u001b[39m, \u001b[33m'\u001b[39m\u001b[33mclean_model\u001b[39m\u001b[33m'\u001b[39m,\u001b[33m'\u001b[39m\u001b[33mclean_features.pickle\u001b[39m\u001b[33m'\u001b[39m)\n\u001b[32m    739\u001b[39m model_path = os.path.join(main_path+\u001b[33m'\u001b[39m\u001b[33m_undefended\u001b[39m\u001b[33m'\u001b[39m, \u001b[33m'\u001b[39m\u001b[33mclean_model\u001b[39m\u001b[33m'\u001b[39m,\u001b[33m'\u001b[39m\u001b[33mclean.pth\u001b[39m\u001b[33m'\u001b[39m)\n\u001b[32m--> \u001b[39m\u001b[32m740\u001b[39m \u001b[43mplot_function\u001b[49m\u001b[43m(\u001b[49m\u001b[43mfeat_path\u001b[49m\u001b[43m,\u001b[49m\u001b[43mmodel_path\u001b[49m\u001b[43m,\u001b[49m\u001b[43m \u001b[49m\u001b[43mtarget_class\u001b[49m\u001b[43m,\u001b[49m\u001b[43mbase_class\u001b[49m\u001b[43m,\u001b[49m\u001b[43m \u001b[49m\u001b[43mpoison_ids\u001b[49m\u001b[43m,\u001b[49m\n\u001b[32m    741\u001b[39m \u001b[43m                    \u001b[49m\u001b[43mmodel_name\u001b[49m\u001b[43m \u001b[49m\u001b[43m+\u001b[49m\u001b[43m \u001b[49m\u001b[33;43m\"\u001b[39;49m\u001b[33;43m \u001b[39;49m\u001b[33;43m\"\u001b[39;49m\u001b[43m+\u001b[49m\u001b[43m \u001b[49m\u001b[33;43m\"\u001b[39;49m\u001b[33;43mundefended\u001b[39;49m\u001b[33;43m\"\u001b[39;49m\u001b[43m,\u001b[49m\u001b[43m \u001b[49m\u001b[43mdevice\u001b[49m\u001b[43m)\u001b[49m\n\u001b[32m    743\u001b[39m feat_path = os.path.join(main_path+\u001b[33m'\u001b[39m\u001b[33m_undefended\u001b[39m\u001b[33m'\u001b[39m, \u001b[33m'\u001b[39m\u001b[33mdefended_model\u001b[39m\u001b[33m'\u001b[39m,\u001b[33m'\u001b[39m\u001b[33mdef_features.pickle\u001b[39m\u001b[33m'\u001b[39m)\n\u001b[32m    744\u001b[39m model_path = os.path.join(main_path+\u001b[33m'\u001b[39m\u001b[33m_undefended\u001b[39m\u001b[33m'\u001b[39m, \u001b[33m'\u001b[39m\u001b[33mdefended_model\u001b[39m\u001b[33m'\u001b[39m,\u001b[33m'\u001b[39m\u001b[33mdef.pth\u001b[39m\u001b[33m'\u001b[39m)\n",
      "\u001b[36mFile \u001b[39m\u001b[32m~/Documents/REMOTE/UNI/II/DL/DLproject/data-poisoning/plotting/featurespace_visualizations.py:655\u001b[39m, in \u001b[36mgenplot_centroid_prob_2d\u001b[39m\u001b[34m(feat_path, model_path, target_class, base_class, poison_ids, title, device)\u001b[39m\n\u001b[32m    653\u001b[39m \u001b[38;5;28;01mdef\u001b[39;00m\u001b[38;5;250m \u001b[39m\u001b[34mgenplot_centroid_prob_2d\u001b[39m(feat_path, model_path, target_class,base_class, poison_ids, title, device):\n\u001b[32m--> \u001b[39m\u001b[32m655\u001b[39m     [ops_all, labels_all, ids_all] = \u001b[43mpickle\u001b[49m\u001b[43m.\u001b[49m\u001b[43mload\u001b[49m\u001b[43m(\u001b[49m\u001b[43m \u001b[49m\u001b[38;5;28;43mopen\u001b[39;49m\u001b[43m(\u001b[49m\u001b[43m \u001b[49m\u001b[43mfeat_path\u001b[49m\u001b[43m,\u001b[49m\u001b[43m \u001b[49m\u001b[33;43m\"\u001b[39;49m\u001b[33;43mrb\u001b[39;49m\u001b[33;43m\"\u001b[39;49m\u001b[43m \u001b[49m\u001b[43m)\u001b[49m\u001b[43m \u001b[49m\u001b[43m)\u001b[49m \n\u001b[32m    656\u001b[39m     \u001b[38;5;66;03m# model = resnet_picker('ResNet18', 'CIFAR10')\u001b[39;00m\n\u001b[32m    657\u001b[39m     model = HG(num_classes=\u001b[32m10\u001b[39m) \n",
      "\u001b[31mModuleNotFoundError\u001b[39m: No module named 'numpy._core.numeric'"
     ]
    }
   ],
   "source": [
    "generate_plots('../models/model_8.0',\"gm_fromscratch\",genplot_centroid_prob_2d, target_class, base_class,poison_ids, device)"
   ]
  },
  {
   "cell_type": "code",
   "execution_count": null,
   "metadata": {
    "jupyter": {
     "outputs_hidden": true
    }
   },
   "outputs": [],
   "source": [
    "generate_plots('../models/model_8.0',\"gm_fromscratch\",genplot_centroid_prob_3d, target_class, base_class,poison_ids, device)"
   ]
  },
  {
   "cell_type": "markdown",
   "metadata": {},
   "source": [
    "## Patch"
   ]
  },
  {
   "cell_type": "code",
   "execution_count": null,
   "metadata": {},
   "outputs": [],
   "source": [
    "main_path = './models/patch'\n",
    "model_name = 'patch'\n",
    "base_class = 8\n",
    "target_class = 2\n",
    "\n",
    "poison_ids = pickle.load( open( \"./models/patch_undefended/poison_indices.pickle\", \"rb\" ) ).cpu().numpy()\n",
    "poison_ids = list(map(str, poison_ids))\n",
    "len(poison_ids)"
   ]
  },
  {
   "cell_type": "code",
   "execution_count": null,
   "metadata": {
    "jupyter": {
     "outputs_hidden": true
    }
   },
   "outputs": [],
   "source": [
    "generate_plots('./models/patch',\"patch\",genplot_centroid_prob_2d_patch, target_class, base_class,poison_ids, device)"
   ]
  },
  {
   "cell_type": "code",
   "execution_count": null,
   "metadata": {
    "jupyter": {
     "outputs_hidden": true
    }
   },
   "outputs": [],
   "source": [
    "generate_plots('./models/patch',\"patch\",genplot_centroid_3d_patch, target_class, base_class,poison_ids, device)"
   ]
  },
  {
   "cell_type": "markdown",
   "metadata": {},
   "source": [
    "### To generate the legend separately"
   ]
  },
  {
   "cell_type": "code",
   "execution_count": null,
   "metadata": {},
   "outputs": [],
   "source": [
    "import numpy as np\n",
    "import matplotlib.pyplot as plt\n",
    "from matplotlib.lines import Line2D\n",
    "plt.rc('legend',**{'fontsize':30})\n",
    "import pylab\n",
    "\n",
    "legend_properties = {'weight':'medium'}\n",
    "\n",
    "legend_elements = [Line2D([0], [0], marker='o', color='w', label='target class',\n",
    "                          markerfacecolor='blue', markersize=15),\n",
    "                   Line2D([0], [0], marker='o', color='w', label='poison class',\n",
    "                          markerfacecolor='green', markersize=15,alpha=0.8),\n",
    "                   Line2D([0], [0], marker='o', color='w', label='poison',\n",
    "                          markerfacecolor='red', markersize=15),\n",
    "                   Line2D([0], [0], marker='^', color='w', label='target',\n",
    "                          markerfacecolor='black', markersize=30)\n",
    "                   ]\n",
    "fig = pylab.figure()\n",
    "legend_fig = pylab.figure(figsize=(14,1.5))\n",
    "legend = legend_fig.legend(handles=legend_elements,ncol=4,\n",
    "                           loc='center',prop=legend_properties)\n",
    "legend.get_frame().set_color('1')\n",
    "legend_fig.canvas.draw()\n",
    "plt.rc('legend',**{'fontsize':30})\n",
    "legend_fig.savefig('./plots/legend.pdf',\n",
    "    bbox_inches=legend.get_window_extent().transformed(legend_fig.dpi_scale_trans.inverted()))"
   ]
  },
  {
   "cell_type": "code",
   "execution_count": null,
   "metadata": {},
   "outputs": [],
   "source": []
  }
 ],
 "metadata": {
  "kernelspec": {
   "display_name": "dlprojenv2",
   "language": "python",
   "name": "dlprojenv2"
  },
  "language_info": {
   "codemirror_mode": {
    "name": "ipython",
    "version": 3
   },
   "file_extension": ".py",
   "mimetype": "text/x-python",
   "name": "python",
   "nbconvert_exporter": "python",
   "pygments_lexer": "ipython3",
   "version": "3.12.9"
  }
 },
 "nbformat": 4,
 "nbformat_minor": 4
}

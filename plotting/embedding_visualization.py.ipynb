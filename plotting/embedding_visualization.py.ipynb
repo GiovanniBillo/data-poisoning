{
 "cells": [
  {
   "cell_type": "code",
   "execution_count": null,
   "id": "0d9102d9",
   "metadata": {},
   "outputs": [],
   "source": [
    "import sys\n",
    "import os\n",
    "\n",
    "# Add project root (one level up from this script's directory)\n",
    "project_root = os.path.abspath(os.path.join(os.getcwd(), '..'))\n",
    "sys.path.insert(0, project_root)\n",
    "\n",
    "# Confirm it's now importable\n",
    "print(\"Project root added to path:\", project_root)"
   ]
  },
  {
   "cell_type": "code",
   "execution_count": null,
   "id": "e8d32eac",
   "metadata": {},
   "outputs": [],
   "source": [
    "import torch\n",
    "from plotting.featurespace_visualizations import *\n",
    "import os\n",
    "import pickle\n",
    "import numpy as np\n",
    "import pandas as pd\n",
    "import seaborn as sns\n",
    "import matplotlib.pyplot as plt\n",
    "import warnings\n"
   ]
  },
  {
   "cell_type": "code",
   "execution_count": null,
   "id": "f9cb2fe8",
   "metadata": {},
   "outputs": [],
   "source": [
    "print(np.__version__)"
   ]
  },
  {
   "cell_type": "code",
   "execution_count": null,
   "id": "9d15a5ba",
   "metadata": {},
   "outputs": [],
   "source": [
    "use_cuda = torch.cuda.is_available()\n",
    "device = torch.device(\"cuda:0\" if use_cuda else \"cpu\")\n",
    "torch.backends.cudnn.benchmark = True"
   ]
  },
  {
   "cell_type": "markdown",
   "id": "e2d7d6c6",
   "metadata": {},
   "source": [
    "We only care about gradient matching"
   ]
  },
  {
   "cell_type": "code",
   "execution_count": null,
   "id": "7b84db55",
   "metadata": {},
   "outputs": [],
   "source": [
    "! ls ../models/"
   ]
  },
  {
   "cell_type": "code",
   "execution_count": null,
   "id": "c92fee64",
   "metadata": {},
   "outputs": [],
   "source": [
    "base_class = 8\n",
    "target_class = 0\n",
    "\n",
    "poison_ids = pickle.load( open( \"../models/model_8.0_poison_indices.pickle\", \"rb\" ) ).cpu().numpy()\n",
    "poison_ids = list(map(str, poison_ids))\n"
   ]
  },
  {
   "cell_type": "code",
   "execution_count": null,
   "id": "8cc61cbb",
   "metadata": {},
   "outputs": [],
   "source": [
    "generate_plots('../models/model_8.0',\"gm_fromscratch\",genplot_centroid_prob_2d, target_class, base_class,poison_ids, device)"
   ]
  },
  {
   "cell_type": "code",
   "execution_count": null,
   "id": "03a3893a",
   "metadata": {},
   "outputs": [],
   "source": [
    "generate_plots('../models/model_8.0',\"gm_fromscratch\",genplot_centroid_prob_3d, target_class, base_class,poison_ids, device)"
   ]
  }
 ],
 "metadata": {
  "kernelspec": {
   "display_name": "dlprojenv2",
   "language": "python",
   "name": "dlprojenv2"
  },
  "language_info": {
   "codemirror_mode": {
    "name": "ipython",
    "version": 3
   },
   "file_extension": ".py",
   "mimetype": "text/x-python",
   "name": "python",
   "nbconvert_exporter": "python",
   "pygments_lexer": "ipython3",
   "version": "3.12.9"
  }
 },
 "nbformat": 4,
 "nbformat_minor": 5
}
